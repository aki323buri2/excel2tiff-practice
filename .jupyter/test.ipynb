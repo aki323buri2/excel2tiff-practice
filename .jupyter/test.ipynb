{
 "nbformat": 4,
 "nbformat_minor": 2,
 "metadata": {
  "language_info": {
   "name": "python",
   "codemirror_mode": {
    "name": "ipython",
    "version": 3
   },
   "version": "3.8.1-final"
  },
  "orig_nbformat": 2,
  "file_extension": ".py",
  "mimetype": "text/x-python",
  "name": "python",
  "npconvert_exporter": "python",
  "pygments_lexer": "ipython3",
  "version": 3,
  "kernelspec": {
   "name": "python38164bitbackendpipenv27a0f8582f3f4bfa921711fbffb3065f",
   "display_name": "Python 3.8.1 64-bit ('backend': pipenv)"
  }
 },
 "cells": [
  {
   "cell_type": "code",
   "execution_count": 10,
   "metadata": {},
   "outputs": [],
   "source": [
    "from pathlib import Path \n",
    "def resourcePath(path):\n",
    "    return Path('../resources', path).resolve()"
   ]
  },
  {
   "cell_type": "code",
   "execution_count": 14,
   "metadata": {},
   "outputs": [],
   "source": [
    "xlsx_file = resourcePath('011_納品書_タテ型.xlsx')\n",
    "pdf_file = xlsx_file.with_suffix('.pdf')"
   ]
  },
  {
   "cell_type": "code",
   "execution_count": 40,
   "metadata": {},
   "outputs": [
    {
     "name": "stdout",
     "output_type": "stream",
     "text": "PDF作成を開始します\n正常終了しました\n"
    }
   ],
   "source": [
    "import win32com.client \n",
    "from pywintypes import com_error \n",
    "\n",
    "excel = win32com.client.Dispatch('Excel.Application')\n",
    "excel.Visible = True \n",
    "\n",
    "try:\n",
    "    print('PDF作成を開始します')\n",
    "    wb = excel.Workbooks.Open(str(xlsx_file))\n",
    "    wb.Worksheets.Select()\n",
    "    wb.Activesheet.ExportAsFixedFormat(0, str(pdf_file))\n",
    "except com_error as e: \n",
    "    print(str(e))\n",
    "else:\n",
    "    print('正常終了しました')\n",
    "finally:\n",
    "    wb.Close()\n",
    "    excel.Quit()\n"
   ]
  },
  {
   "cell_type": "code",
   "execution_count": null,
   "metadata": {},
   "outputs": [],
   "source": []
  }
 ]
}